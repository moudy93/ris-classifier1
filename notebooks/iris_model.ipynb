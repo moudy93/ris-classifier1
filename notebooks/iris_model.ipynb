{
 "cells": [
  {
   "cell_type": "code",
   "execution_count": null,
   "id": "9cc6653b",
   "metadata": {},
   "outputs": [],
   "source": [
    "from sklearn.datasets import load_iris\n",
    "iris = load_iris()\n",
    "X = iris.data      # shape (150, 4) Load the data\n",
    "y = iris.target    # shape (150,)\n",
    "print(iris.feature_names, iris.target_names)\n",
    "#Split into training and test sets\n",
    "from sklearn.model_selection import train_test_split\n",
    "X_train, X_test, y_train, y_test = train_test_split(X, y, test_size=0.2, random_state=42)\n",
    "\n",
    "from sklearn.tree import DecisionTreeClassifier #Initialize the model\n",
    "model = DecisionTreeClassifier(random_state=42)\n",
    "#Train (fit) the model\n",
    "model.fit(X_train, y_train)\n",
    "y_pred = model.predict(X_test) #Make predictions\n",
    "print(\"Predictions:\", y_pred[:5])\n",
    "print(\"True labels:\", y_test[:5])\n",
    "from sklearn.metrics import accuracy_score #Evaluate the model\n",
    "accuracy = accuracy_score(y_test, y_pred)\n",
    "print(\"Accuracy:\", accuracy)\n",
    "from sklearn.neighbors import KNeighborsClassifier \n",
    "model2 = KNeighborsClassifier(n_neighbors=5) #\n",
    "model2.fit(X_train, y_train)\n",
    "y_pred2 = model2.predict(X_test)\n",
    "print(\"k-NN accuracy:\", accuracy_score(y_test, y_pred2))\n",
    "model = DecisionTreeClassifier(max_depth=3, random_state=42)\n",
    "model.fit(X_train, y_train)\n"
   ]
  }
 ],
 "metadata": {
  "language_info": {
   "name": "python"
  }
 },
 "nbformat": 4,
 "nbformat_minor": 5
}
